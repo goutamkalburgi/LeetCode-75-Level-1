{
 "cells": [
  {
   "cell_type": "markdown",
   "id": "59176b7c",
   "metadata": {},
   "source": [
    "# [205. Isomorphic Strings](https://leetcode.com/problems/isomorphic-strings)\n",
    "\n",
    "LeetCode problem difficulty: Easy\n",
    "\n",
    "## Problem Statement\n",
    "\n",
    "Given two strings s and t, determine if they are isomorphic.\n",
    "\n",
    "\n",
    "Two strings s and t are isomorphic if the characters in s can be replaced to get t.\n",
    "\n",
    "\n",
    "All occurrences of a character must be replaced with another character while preserving the order of characters. No two characters may map to the same character, but a character may map to itself.\n",
    "\n",
    "\n",
    "**Example 1:**\n",
    "    \n",
    "    \n",
    "Input: s = \"egg\", t = \"add\"\n",
    "    \n",
    "    \n",
    "Output: true\n",
    "    \n",
    "    \n",
    "**Example 2:** \n",
    "   \n",
    "\n",
    "Input: s = \"foo\", t = \"bar\"\n",
    "    \n",
    "    \n",
    "Output: false\n",
    "    \n",
    "    \n",
    "**Example 3:**\n",
    "    \n",
    "    \n",
    "Input: s = \"paper\", t = \"title\"\n",
    "    \n",
    "    \n",
    "Output: true"
   ]
  },
  {
   "cell_type": "code",
   "execution_count": 1,
   "id": "7a9be303",
   "metadata": {},
   "outputs": [],
   "source": [
    "def isIsomorphic(s, t):\n",
    "\n",
    "    # error handling\n",
    "    if len(s) != len(t):\n",
    "        return False\n",
    "\n",
    "    mapST = {}\n",
    "    mapTS = {}\n",
    "\n",
    "    for i in range(len(s)):\n",
    "        c1, c2 = s[i], t[i]\n",
    "\n",
    "        if c1 in mapST and mapST[c1] != c2 or c2 in mapTS and mapTS[c2] != c1:\n",
    "            return False\n",
    "\n",
    "        mapST[c1] = c2\n",
    "        mapTS[c2] = c1\n",
    "\n",
    "    return True"
   ]
  },
  {
   "cell_type": "code",
   "execution_count": 2,
   "id": "982eb1b1",
   "metadata": {},
   "outputs": [
    {
     "data": {
      "text/plain": [
       "True"
      ]
     },
     "execution_count": 2,
     "metadata": {},
     "output_type": "execute_result"
    }
   ],
   "source": [
    "isIsomorphic(\"egg\", \"add\")"
   ]
  }
 ],
 "metadata": {
  "kernelspec": {
   "display_name": "Python 3 (ipykernel)",
   "language": "python",
   "name": "python3"
  },
  "language_info": {
   "codemirror_mode": {
    "name": "ipython",
    "version": 3
   },
   "file_extension": ".py",
   "mimetype": "text/x-python",
   "name": "python",
   "nbconvert_exporter": "python",
   "pygments_lexer": "ipython3",
   "version": "3.9.13"
  }
 },
 "nbformat": 4,
 "nbformat_minor": 5
}
