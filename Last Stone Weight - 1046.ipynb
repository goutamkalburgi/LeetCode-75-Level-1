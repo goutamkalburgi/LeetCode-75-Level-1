{
 "cells": [
  {
   "cell_type": "markdown",
   "id": "c5516eb9",
   "metadata": {},
   "source": [
    "# [1046. Last Stone Weight](https://leetcode.com/problems/last-stone-weight)\n",
    "\n",
    "LeetCode problem difficulty: Easy\n",
    "\n",
    "## Problem Statement\n",
    "\n",
    "You are given an array of integers stones where stones[i] is the weight of the ith stone.\n",
    "\n",
    "\n",
    "We are playing a game with the stones. On each turn, we choose the heaviest two stones and smash them together. Suppose the heaviest two stones have weights x and y with x <= y. The result of this smash is:\n",
    "\n",
    "\n",
    "If x == y, both stones are destroyed, and\n",
    "\n",
    "\n",
    "If x != y, the stone of weight x is destroyed, and the stone of weight y has new weight y - x.\n",
    "\n",
    "\n",
    "At the end of the game, there is at most one stone left.\n",
    "\n",
    "\n",
    "Return the weight of the last remaining stone. If there are no stones left, return 0.\n",
    "\n",
    "\n",
    "**Example 1:**\n",
    "\n",
    "\n",
    "Input: stones = [2,7,4,1,8,1]\n",
    "\n",
    "\n",
    "Output: 1\n",
    "\n",
    "\n",
    "Explanation: \n",
    "We combine 7 and 8 to get 1 so the array converts to [2,4,1,1,1] then,\n",
    "we combine 2 and 4 to get 2 so the array converts to [2,1,1,1] then,\n",
    "we combine 2 and 1 to get 1 so the array converts to [1,1,1] then,\n",
    "we combine 1 and 1 to get 0 so the array converts to [1] then that's the value of the last stone.\n",
    "\n",
    "\n",
    "**Example 2:**\n",
    "\n",
    "\n",
    "Input: stones = [1]\n",
    "\n",
    "\n",
    "Output: 1"
   ]
  },
  {
   "cell_type": "code",
   "execution_count": 4,
   "id": "982e8385",
   "metadata": {},
   "outputs": [],
   "source": [
    "import heapq\n",
    "def lastStoneWeight(stones):\n",
    "\n",
    "    algo = \"optimal\"\n",
    "\n",
    "    if algo == \"brute\":\n",
    "\n",
    "        while len(stones) > 1:\n",
    "            y = max(stones)\n",
    "            stones.remove(y)\n",
    "            x = max(stones)\n",
    "            stones.remove(x)\n",
    "\n",
    "            if x != y:\n",
    "                stones.append(y-x)\n",
    "\n",
    "        if not stones:\n",
    "            return 0\n",
    "        else:\n",
    "            return stones[0]\n",
    "\n",
    "\n",
    "    elif algo == \"optimal\":\n",
    "\n",
    "        stones = [-1 * s for s in stones]\n",
    "\n",
    "        heapq.heapify(stones)\n",
    "\n",
    "        while len(stones) > 1:\n",
    "            y = heapq.heappop(stones)\n",
    "            x = heapq.heappop(stones)\n",
    "\n",
    "            if x != y:\n",
    "                heapq.heappush(stones, y - x)\n",
    "\n",
    "        if not stones:\n",
    "            return 0\n",
    "        else:\n",
    "            return abs(stones[0])\n"
   ]
  },
  {
   "cell_type": "code",
   "execution_count": 5,
   "id": "e5eaa4ce",
   "metadata": {},
   "outputs": [
    {
     "data": {
      "text/plain": [
       "1"
      ]
     },
     "execution_count": 5,
     "metadata": {},
     "output_type": "execute_result"
    }
   ],
   "source": [
    "lastStoneWeight([2,7,4,1,8,1])"
   ]
  }
 ],
 "metadata": {
  "kernelspec": {
   "display_name": "Python 3 (ipykernel)",
   "language": "python",
   "name": "python3"
  },
  "language_info": {
   "codemirror_mode": {
    "name": "ipython",
    "version": 3
   },
   "file_extension": ".py",
   "mimetype": "text/x-python",
   "name": "python",
   "nbconvert_exporter": "python",
   "pygments_lexer": "ipython3",
   "version": "3.9.13"
  }
 },
 "nbformat": 4,
 "nbformat_minor": 5
}
