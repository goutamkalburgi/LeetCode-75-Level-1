{
 "cells": [
  {
   "cell_type": "markdown",
   "id": "163bfa63",
   "metadata": {},
   "source": [
    "# [746. Min Cost Climbing Stairs](https://leetcode.com/problems/min-cost-climbing-stairs)\n",
    "\n",
    "LeetCode problem difficulty: Easy\n",
    "\n",
    "## Problem Statement\n",
    "\n",
    "You are given an integer array cost where cost[i] is the cost of ith step on a staircase. Once you pay the cost, you can either climb one or two steps.\n",
    "\n",
    "\n",
    "You can either start from the step with index 0, or the step with index 1.\n",
    "\n",
    "\n",
    "Return the minimum cost to reach the top of the floor.\n",
    "\n",
    "\n",
    "**Example 1:**\n",
    "\n",
    "\n",
    "Input: cost = [10,15,20]\n",
    "\n",
    "\n",
    "Output: 15\n",
    "\n",
    "\n",
    "Explanation: \n",
    "\n",
    "\n",
    "You will start at index 1.\n",
    "- Pay 15 and climb two steps to reach the top.\n",
    "The total cost is 15.\n",
    "\n",
    "\n",
    "**Example 2:**\n",
    "\n",
    "\n",
    "Input: cost = [1,100,1,1,1,100,1,1,100,1]\n",
    "\n",
    "\n",
    "Output: 6\n",
    "\n",
    "\n",
    "Explanation: You will start at index 0.\n",
    "- Pay 1 and climb two steps to reach index 2.\n",
    "- Pay 1 and climb two steps to reach index 4.\n",
    "- Pay 1 and climb two steps to reach index 6.\n",
    "- Pay 1 and climb one step to reach index 7.\n",
    "- Pay 1 and climb two steps to reach index 9.\n",
    "- Pay 1 and climb one step to reach the top.\n",
    "The total cost is 6."
   ]
  },
  {
   "cell_type": "code",
   "execution_count": 1,
   "id": "65ffff7a",
   "metadata": {},
   "outputs": [],
   "source": [
    "def minCostClimbingStairs(cost):\n",
    "\n",
    "    n = len(cost)\n",
    "\n",
    "    for i in range(n-3, -1, -1):\n",
    "        cost[i] = cost[i] + min(cost[i + 1], cost[i + 2])\n",
    "\n",
    "    return min(cost[0], cost[1])"
   ]
  },
  {
   "cell_type": "code",
   "execution_count": 2,
   "id": "a1ed1bc5",
   "metadata": {},
   "outputs": [
    {
     "data": {
      "text/plain": [
       "15"
      ]
     },
     "execution_count": 2,
     "metadata": {},
     "output_type": "execute_result"
    }
   ],
   "source": [
    "minCostClimbingStairs([10,15,20])"
   ]
  }
 ],
 "metadata": {
  "kernelspec": {
   "display_name": "Python 3 (ipykernel)",
   "language": "python",
   "name": "python3"
  },
  "language_info": {
   "codemirror_mode": {
    "name": "ipython",
    "version": 3
   },
   "file_extension": ".py",
   "mimetype": "text/x-python",
   "name": "python",
   "nbconvert_exporter": "python",
   "pygments_lexer": "ipython3",
   "version": "3.9.13"
  }
 },
 "nbformat": 4,
 "nbformat_minor": 5
}
