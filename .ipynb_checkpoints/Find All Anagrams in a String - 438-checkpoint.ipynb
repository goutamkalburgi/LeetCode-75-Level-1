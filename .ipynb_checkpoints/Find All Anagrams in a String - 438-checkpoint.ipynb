{
 "cells": [
  {
   "cell_type": "markdown",
   "id": "16d5b452",
   "metadata": {},
   "source": [
    "# [438. Find All Anagrams in a String](https://leetcode.com/problems/find-all-anagrams-in-a-string)\n",
    "\n",
    "LeetCode problem difficulty: Medium\n",
    "\n",
    "## Problem Statement\n",
    "\n",
    "Given two strings s and p, return an array of all the start indices of p's anagrams in s. You may return the answer in any order.\n",
    "\n",
    "\n",
    "An Anagram is a word or phrase formed by rearranging the letters of a different word or phrase, typically using all the original letters exactly once.\n",
    "\n",
    "\n",
    "**Example 1:**\n",
    "    \n",
    "\n",
    "Input: s = \"cbaebabacd\", p = \"abc\"\n",
    "    \n",
    "    \n",
    "Output: [0,6]\n",
    "    \n",
    "    \n",
    "Explanation:\n",
    "The substring with start index = 0 is \"cba\", which is an anagram of \"abc\".\n",
    "The substring with start index = 6 is \"bac\", which is an anagram of \"abc\".\n",
    "\n",
    "\n",
    "**Example 2:**\n",
    "    \n",
    "    \n",
    "Input: s = \"abab\", p = \"ab\"\n",
    "    \n",
    "    \n",
    "Output: [0,1,2]\n",
    "    \n",
    "    \n",
    "Explanation:\n",
    "The substring with start index = 0 is \"ab\", which is an anagram of \"ab\".\n",
    "The substring with start index = 1 is \"ba\", which is an anagram of \"ab\".\n",
    "The substring with start index = 2 is \"ab\", which is an anagram of \"ab\".\n"
   ]
  },
  {
   "cell_type": "code",
   "execution_count": 2,
   "id": "03df5cef",
   "metadata": {},
   "outputs": [],
   "source": [
    "def findAnagrams(s, p):\n",
    "\n",
    "    # error handling\n",
    "    if len(p) > len(s):\n",
    "        return []\n",
    "\n",
    "    count_s = {}\n",
    "    count_p = {}\n",
    "\n",
    "    res = []\n",
    "\n",
    "    for i in range(len(p)):\n",
    "        count_p[p[i]] = count_p.get(p[i], 0) + 1\n",
    "        count_s[s[i]] = count_s.get(s[i], 0) + 1\n",
    "\n",
    "    if count_p == count_s:\n",
    "        res.append(0)\n",
    "\n",
    "    l = 0\n",
    "\n",
    "    for r in range(len(p),len(s)):\n",
    "        count_s[s[r]] = count_s.get(s[r], 0) + 1\n",
    "\n",
    "        count_s[s[l]] -= 1\n",
    "        if count_s[s[l]] == 0:\n",
    "            del count_s[s[l]]\n",
    "        l += 1\n",
    "\n",
    "        if count_s == count_p:\n",
    "            res.append(l)\n",
    "\n",
    "    return res"
   ]
  },
  {
   "cell_type": "code",
   "execution_count": 3,
   "id": "c39e9e5a",
   "metadata": {},
   "outputs": [
    {
     "data": {
      "text/plain": [
       "[0, 6]"
      ]
     },
     "execution_count": 3,
     "metadata": {},
     "output_type": "execute_result"
    }
   ],
   "source": [
    "findAnagrams(\"cbaebabacd\", \"abc\")"
   ]
  }
 ],
 "metadata": {
  "kernelspec": {
   "display_name": "Python 3 (ipykernel)",
   "language": "python",
   "name": "python3"
  },
  "language_info": {
   "codemirror_mode": {
    "name": "ipython",
    "version": 3
   },
   "file_extension": ".py",
   "mimetype": "text/x-python",
   "name": "python",
   "nbconvert_exporter": "python",
   "pygments_lexer": "ipython3",
   "version": "3.9.13"
  }
 },
 "nbformat": 4,
 "nbformat_minor": 5
}
