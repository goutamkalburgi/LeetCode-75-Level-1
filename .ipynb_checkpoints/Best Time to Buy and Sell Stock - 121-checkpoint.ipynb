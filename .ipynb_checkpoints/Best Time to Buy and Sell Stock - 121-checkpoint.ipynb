{
 "cells": [
  {
   "cell_type": "markdown",
   "id": "5f4d53d8",
   "metadata": {},
   "source": [
    "# [121. Best Time to Buy and Sell Stock](https://leetcode.com/problems/best-time-to-buy-and-sell-stock)\n",
    "\n",
    "LeetCode problem difficulty: Easy\n",
    "\n",
    "## Problem Statement\n",
    "\n",
    "You are given an array prices where prices[i] is the price of a given stock on the ith day.\n",
    "\n",
    "\n",
    "You want to maximize your profit by choosing a single day to buy one stock and choosing a different day in the future to sell that stock.\n",
    "\n",
    "\n",
    "Return the maximum profit you can achieve from this transaction. If you cannot achieve any profit, return 0.\n",
    "\n",
    "\n",
    "**Example 1:**\n",
    "    \n",
    "\n",
    "Input: prices = [7,1,5,3,6,4]\n",
    "    \n",
    "    \n",
    "Output: 5\n",
    "    \n",
    "    \n",
    "Explanation: Buy on day 2 (price = 1) and sell on day 5 (price = 6), profit = 6-1 = 5.\n",
    "    \n",
    "    \n",
    "Note that buying on day 2 and selling on day 1 is not allowed because you must buy before you sell.\n",
    "\n",
    "\n",
    "**Example 2:**\n",
    "    \n",
    "    \n",
    "Input: prices = [7,6,4,3,1]\n",
    "    \n",
    "    \n",
    "Output: 0\n",
    "    \n",
    "    \n",
    "Explanation: In this case, no transactions are done and the max profit = 0."
   ]
  },
  {
   "cell_type": "code",
   "execution_count": 1,
   "id": "de7236d6",
   "metadata": {},
   "outputs": [],
   "source": [
    "def maxProfit(prices):\n",
    "\n",
    "    buy_day = 0\n",
    "    sell_day = 1\n",
    "\n",
    "    profit = 0\n",
    "\n",
    "    while sell_day < len(prices):\n",
    "        if prices[buy_day] < prices[sell_day]:\n",
    "            new_profit = prices[sell_day] - prices[buy_day]\n",
    "            profit = max(profit, new_profit)\n",
    "        else:\n",
    "            buy_day = sell_day\n",
    "        sell_day += 1\n",
    "\n",
    "    return profit"
   ]
  },
  {
   "cell_type": "code",
   "execution_count": 2,
   "id": "ac856812",
   "metadata": {},
   "outputs": [
    {
     "data": {
      "text/plain": [
       "5"
      ]
     },
     "execution_count": 2,
     "metadata": {},
     "output_type": "execute_result"
    }
   ],
   "source": [
    "maxProfit([7,1,5,3,6,4])"
   ]
  }
 ],
 "metadata": {
  "kernelspec": {
   "display_name": "Python 3 (ipykernel)",
   "language": "python",
   "name": "python3"
  },
  "language_info": {
   "codemirror_mode": {
    "name": "ipython",
    "version": 3
   },
   "file_extension": ".py",
   "mimetype": "text/x-python",
   "name": "python",
   "nbconvert_exporter": "python",
   "pygments_lexer": "ipython3",
   "version": "3.9.13"
  }
 },
 "nbformat": 4,
 "nbformat_minor": 5
}
