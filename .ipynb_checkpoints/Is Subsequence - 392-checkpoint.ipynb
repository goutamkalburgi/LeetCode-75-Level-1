{
 "cells": [
  {
   "cell_type": "markdown",
   "id": "c77e2990",
   "metadata": {},
   "source": [
    "# [392. Is Subsequence](https://leetcode.com/problems/is-subsequence)\n",
    "\n",
    "LeetCode problem difficulty: Easy\n",
    "\n",
    "## Problem Statement\n",
    "\n",
    "Given two strings s and t, return true if s is a subsequence of t, or false otherwise.\n",
    "\n",
    "\n",
    "A subsequence of a string is a new string that is formed from the original string by deleting some (can be none) of the characters without disturbing the relative positions of the remaining characters. (i.e., \"ace\" is a subsequence of \"abcde\" while \"aec\" is not).\n",
    "\n",
    "\n",
    "**Example 1:**\n",
    "    \n",
    "    \n",
    "Input: s = \"abc\", t = \"ahbgdc\"\n",
    "    \n",
    "    \n",
    "Output: true\n",
    "    \n",
    "    \n",
    "**Example 2:**\n",
    "    \n",
    "    \n",
    "Input: s = \"axc\", t = \"ahbgdc\"\n",
    "    \n",
    "    \n",
    "Output: false    "
   ]
  },
  {
   "cell_type": "code",
   "execution_count": 1,
   "id": "0f2f72c9",
   "metadata": {},
   "outputs": [],
   "source": [
    "def isSubsequence(s, t):\n",
    "\n",
    "    # error handling\n",
    "    if len(s) > len(t):\n",
    "        return False\n",
    "\n",
    "    i = 0\n",
    "    j = 0\n",
    "\n",
    "    while i < len(s) and j < len(t):\n",
    "        if s[i] == t[j]:\n",
    "            i += 1\n",
    "        j += 1\n",
    "\n",
    "    if i == len(s):\n",
    "        return True\n",
    "    return False"
   ]
  },
  {
   "cell_type": "code",
   "execution_count": 2,
   "id": "8c804dcf",
   "metadata": {},
   "outputs": [
    {
     "data": {
      "text/plain": [
       "True"
      ]
     },
     "execution_count": 2,
     "metadata": {},
     "output_type": "execute_result"
    }
   ],
   "source": [
    "isSubsequence(\"abc\", \"ahbgdc\")"
   ]
  }
 ],
 "metadata": {
  "kernelspec": {
   "display_name": "Python 3 (ipykernel)",
   "language": "python",
   "name": "python3"
  },
  "language_info": {
   "codemirror_mode": {
    "name": "ipython",
    "version": 3
   },
   "file_extension": ".py",
   "mimetype": "text/x-python",
   "name": "python",
   "nbconvert_exporter": "python",
   "pygments_lexer": "ipython3",
   "version": "3.9.13"
  }
 },
 "nbformat": 4,
 "nbformat_minor": 5
}
