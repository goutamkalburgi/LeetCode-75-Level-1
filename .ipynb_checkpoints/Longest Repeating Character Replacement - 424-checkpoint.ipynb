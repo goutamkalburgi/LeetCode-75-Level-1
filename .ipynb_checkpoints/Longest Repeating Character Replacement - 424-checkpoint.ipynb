{
 "cells": [
  {
   "cell_type": "markdown",
   "id": "562c52ff",
   "metadata": {},
   "source": [
    "# [424. Longest Repeating Character Replacement](https://leetcode.com/problems/longest-repeating-character-replacement)\n",
    "\n",
    "LeetCode problem difficulty: Medium\n",
    "\n",
    "## Problem Statement\n",
    "\n",
    "You are given a string s and an integer k. You can choose any character of the string and change it to any other uppercase English character. You can perform this operation at most k times.\n",
    "\n",
    "\n",
    "Return the length of the longest substring containing the same letter you can get after performing the above operations.\n",
    "\n",
    "\n",
    "**Example 1:**\n",
    "    \n",
    "    \n",
    "Input: s = \"ABAB\", k = 2\n",
    "    \n",
    "    \n",
    "Output: 4\n",
    "    \n",
    "    \n",
    "Explanation: Replace the two 'A's with two 'B's or vice versa.\n",
    "    \n",
    "    \n",
    "**Example 2:**\n",
    "    \n",
    "\n",
    "Input: s = \"AABABBA\", k = 1\n",
    "    \n",
    "    \n",
    "Output: 4\n",
    "    \n",
    "    \n",
    "Explanation: Replace the one 'A' in the middle with 'B' and form \"AABBBBA\".\n",
    "The substring \"BBBB\" has the longest repeating letters, which is 4.\n"
   ]
  },
  {
   "cell_type": "code",
   "execution_count": 1,
   "id": "b82b6bb8",
   "metadata": {},
   "outputs": [],
   "source": [
    "def characterReplacement(s, k):\n",
    "\n",
    "    count = {}\n",
    "\n",
    "    l = 0\n",
    "\n",
    "    res = 0\n",
    "\n",
    "    for r in range(len(s)):\n",
    "        count[s[r]] = count.get(s[r], 0) + 1\n",
    "\n",
    "        if r - l + 1 - max(count.values()) > k:\n",
    "            count[s[l]] -= 1\n",
    "            l += 1\n",
    "\n",
    "        res = max(r - l + 1, res)\n",
    "\n",
    "    return res"
   ]
  },
  {
   "cell_type": "code",
   "execution_count": 2,
   "id": "454cc3a8",
   "metadata": {},
   "outputs": [
    {
     "data": {
      "text/plain": [
       "4"
      ]
     },
     "execution_count": 2,
     "metadata": {},
     "output_type": "execute_result"
    }
   ],
   "source": [
    "characterReplacement(\"ABAB\", 2)"
   ]
  }
 ],
 "metadata": {
  "kernelspec": {
   "display_name": "Python 3 (ipykernel)",
   "language": "python",
   "name": "python3"
  },
  "language_info": {
   "codemirror_mode": {
    "name": "ipython",
    "version": 3
   },
   "file_extension": ".py",
   "mimetype": "text/x-python",
   "name": "python",
   "nbconvert_exporter": "python",
   "pygments_lexer": "ipython3",
   "version": "3.9.13"
  }
 },
 "nbformat": 4,
 "nbformat_minor": 5
}
