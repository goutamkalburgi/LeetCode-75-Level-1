{
 "cells": [
  {
   "cell_type": "markdown",
   "id": "9fac0243",
   "metadata": {},
   "source": [
    "# [692. Top K Frequent Words](https://leetcode.com/problems/top-k-frequent-words)\n",
    "\n",
    "LeetCode problem difficulty: Medium\n",
    "\n",
    "## Problem Statement\n",
    "\n",
    "Given an array of strings words and an integer k, return the k most frequent strings.\n",
    "\n",
    "\n",
    "Return the answer sorted by the frequency from highest to lowest. Sort the words with the same frequency by their lexicographical order.\n",
    "\n",
    "\n",
    "**Example 1:**\n",
    "\n",
    "\n",
    "Input: words = [\"i\",\"love\",\"leetcode\",\"i\",\"love\",\"coding\"], k = 2\n",
    "\n",
    "\n",
    "Output: [\"i\",\"love\"]\n",
    "\n",
    "\n",
    "Explanation: \"i\" and \"love\" are the two most frequent words.\n",
    "Note that \"i\" comes before \"love\" due to a lower alphabetical order.\n",
    "\n",
    "\n",
    "**Example 2:**\n",
    "\n",
    "\n",
    "Input: words = [\"the\",\"day\",\"is\",\"sunny\",\"the\",\"the\",\"the\",\"sunny\",\"is\",\"is\"], k = 4\n",
    "\n",
    "\n",
    "Output: [\"the\",\"is\",\"sunny\",\"day\"]\n",
    "\n",
    "\n",
    "Explanation: \"the\", \"is\", \"sunny\" and \"day\" are the four most frequent words, with the number of occurrence being 4, 3, 2 and 1 respectively."
   ]
  },
  {
   "cell_type": "code",
   "execution_count": 3,
   "id": "1d800a3b",
   "metadata": {},
   "outputs": [],
   "source": [
    "import heapq\n",
    "def topKFrequent(words, k):\n",
    "\n",
    "    algo = \"optimal\"\n",
    "    count = {}\n",
    "    for w in words:\n",
    "        count[w] = count.get(w, 0) + 1\n",
    "\n",
    "    if algo == \"brute\":\n",
    "        res = sorted(count, key=lambda x: (-1 * count[x], x))\n",
    "\n",
    "        return res[:k]\n",
    "\n",
    "    elif algo == \"optimal\":\n",
    "\n",
    "        word_count = [(-1*v, k) for k, v in count.items()]\n",
    "\n",
    "        heapq.heapify(word_count)\n",
    "\n",
    "        return [heapq.heappop(word_count)[1] for _ in range(k)]"
   ]
  },
  {
   "cell_type": "code",
   "execution_count": 4,
   "id": "fa83cbf8",
   "metadata": {
    "scrolled": true
   },
   "outputs": [
    {
     "data": {
      "text/plain": [
       "['i', 'love']"
      ]
     },
     "execution_count": 4,
     "metadata": {},
     "output_type": "execute_result"
    }
   ],
   "source": [
    "topKFrequent([\"i\",\"love\",\"leetcode\",\"i\",\"love\",\"coding\"], 2)"
   ]
  }
 ],
 "metadata": {
  "kernelspec": {
   "display_name": "Python 3 (ipykernel)",
   "language": "python",
   "name": "python3"
  },
  "language_info": {
   "codemirror_mode": {
    "name": "ipython",
    "version": 3
   },
   "file_extension": ".py",
   "mimetype": "text/x-python",
   "name": "python",
   "nbconvert_exporter": "python",
   "pygments_lexer": "ipython3",
   "version": "3.9.13"
  }
 },
 "nbformat": 4,
 "nbformat_minor": 5
}
