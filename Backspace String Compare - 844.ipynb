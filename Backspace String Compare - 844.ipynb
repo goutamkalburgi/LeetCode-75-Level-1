{
 "cells": [
  {
   "cell_type": "markdown",
   "id": "a2e509ec",
   "metadata": {},
   "source": [
    "# [844. Backspace String Compare](https://leetcode.com/problems/backspace-string-compare)\n",
    "\n",
    "LeetCode problem difficulty: Easy\n",
    "\n",
    "## Problem Statement\n",
    "\n",
    "Given two strings s and t, return true if they are equal when both are typed into empty text editors. '#' means a backspace character.\n",
    "\n",
    "\n",
    "Note that after backspacing an empty text, the text will continue empty.\n",
    "\n",
    "\n",
    "**Example 1:**\n",
    "    \n",
    "    \n",
    "Input: s = \"ab#c\", t = \"ad#c\"\n",
    "\n",
    "\n",
    "Output: true\n",
    "\n",
    "\n",
    "Explanation: Both s and t become \"ac\".\n",
    "\n",
    "\n",
    "**Example 2:**\n",
    "\n",
    "\n",
    "Input: s = \"ab##\", t = \"c#d#\"\n",
    "\n",
    "\n",
    "Output: true\n",
    "\n",
    "\n",
    "Explanation: Both s and t become \"\".\n",
    "\n",
    "\n",
    "**Example 3:**\n",
    "\n",
    "\n",
    "Input: s = \"a#c\", t = \"b\"\n",
    "\n",
    "\n",
    "Output: false\n",
    "\n",
    "\n",
    "Explanation: s becomes \"c\" while t becomes \"b\"."
   ]
  },
  {
   "cell_type": "code",
   "execution_count": 1,
   "id": "a62367e5",
   "metadata": {},
   "outputs": [],
   "source": [
    "def backspaceCompare(s, t):\n",
    "\n",
    "    s_stack = []\n",
    "    t_stack = []\n",
    "\n",
    "    for i in s:\n",
    "        if i != '#':\n",
    "            s_stack.append(i)\n",
    "        elif s_stack:\n",
    "            s_stack.pop()\n",
    "\n",
    "    for i in t:\n",
    "        if i != '#':\n",
    "            t_stack.append(i)\n",
    "        elif t_stack:\n",
    "            t_stack.pop()\n",
    "\n",
    "    if s_stack == t_stack:\n",
    "        return True\n",
    "    else:\n",
    "        return False"
   ]
  },
  {
   "cell_type": "code",
   "execution_count": 2,
   "id": "b66ad567",
   "metadata": {},
   "outputs": [
    {
     "data": {
      "text/plain": [
       "True"
      ]
     },
     "execution_count": 2,
     "metadata": {},
     "output_type": "execute_result"
    }
   ],
   "source": [
    "backspaceCompare(\"ab#c\", \"ad#c\")"
   ]
  }
 ],
 "metadata": {
  "kernelspec": {
   "display_name": "Python 3 (ipykernel)",
   "language": "python",
   "name": "python3"
  },
  "language_info": {
   "codemirror_mode": {
    "name": "ipython",
    "version": 3
   },
   "file_extension": ".py",
   "mimetype": "text/x-python",
   "name": "python",
   "nbconvert_exporter": "python",
   "pygments_lexer": "ipython3",
   "version": "3.9.13"
  }
 },
 "nbformat": 4,
 "nbformat_minor": 5
}
