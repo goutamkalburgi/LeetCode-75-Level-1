{
 "cells": [
  {
   "cell_type": "markdown",
   "id": "fd8419ef",
   "metadata": {},
   "source": [
    "# [394. Decode String](https://leetcode.com/problems/decode-string)\n",
    "\n",
    "LeetCode problem difficulty: Medium\n",
    "\n",
    "## Problem Statement\n",
    "\n",
    "Given an encoded string, return its decoded string.\n",
    "\n",
    "\n",
    "The encoding rule is: k[encoded_string], where the encoded_string inside the square brackets is being repeated exactly k times. Note that k is guaranteed to be a positive integer.\n",
    "    \n",
    "\n",
    "You may assume that the input string is always valid; there are no extra white spaces, square brackets are well-formed, etc. Furthermore, you may assume that the original data does not contain any digits and that digits are only for those repeat numbers, k. For example, there will not be input like 3a or 2[4].\n",
    "\n",
    "\n",
    "The test cases are generated so that the length of the output will never exceed 105.\n",
    "\n",
    "\n",
    "**Example 1:**\n",
    "\n",
    "\n",
    "Input: s = \"3[a]2[bc]\"\n",
    "\n",
    "\n",
    "Output: \"aaabcbc\"    \n",
    "\n",
    "\n",
    "**Example 2:**\n",
    "\n",
    "\n",
    "Input: s = \"3[a2[c]]\"\n",
    "\n",
    "\n",
    "Output: \"accaccacc\"\n",
    "\n",
    "\n",
    "**Example 2:**\n",
    "\n",
    "\n",
    "Input: s = \"2[abc]3[cd]ef\"\n",
    "\n",
    "\n",
    "Output: \"abcabccdcdcdef\""
   ]
  },
  {
   "cell_type": "code",
   "execution_count": 1,
   "id": "9470f4e3",
   "metadata": {},
   "outputs": [],
   "source": [
    "def decodeString(s):\n",
    "\n",
    "    stack = []\n",
    "\n",
    "    for i in s:\n",
    "        if i != ']':\n",
    "            stack.append(i)\n",
    "        else:\n",
    "            k = \"\"\n",
    "            substring = \"\"\n",
    "\n",
    "            while stack and stack[-1] != '[':\n",
    "                substring = stack.pop() + substring\n",
    "\n",
    "            stack.pop()\n",
    "\n",
    "            while stack and stack[-1].isdigit():\n",
    "                k = stack.pop() + k\n",
    "\n",
    "            stack.append(int(k) * substring)\n",
    "\n",
    "    return \"\".join(stack)"
   ]
  },
  {
   "cell_type": "code",
   "execution_count": 2,
   "id": "0d421982",
   "metadata": {},
   "outputs": [
    {
     "data": {
      "text/plain": [
       "'aaabcbc'"
      ]
     },
     "execution_count": 2,
     "metadata": {},
     "output_type": "execute_result"
    }
   ],
   "source": [
    "decodeString(\"3[a]2[bc]\")"
   ]
  }
 ],
 "metadata": {
  "kernelspec": {
   "display_name": "Python 3 (ipykernel)",
   "language": "python",
   "name": "python3"
  },
  "language_info": {
   "codemirror_mode": {
    "name": "ipython",
    "version": 3
   },
   "file_extension": ".py",
   "mimetype": "text/x-python",
   "name": "python",
   "nbconvert_exporter": "python",
   "pygments_lexer": "ipython3",
   "version": "3.9.13"
  }
 },
 "nbformat": 4,
 "nbformat_minor": 5
}
