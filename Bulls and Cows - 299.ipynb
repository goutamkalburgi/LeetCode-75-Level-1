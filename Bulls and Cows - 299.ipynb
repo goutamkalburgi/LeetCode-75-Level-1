{
 "cells": [
  {
   "cell_type": "markdown",
   "id": "4ea6545a",
   "metadata": {},
   "source": [
    "# [299. Bulls and Cows](https://leetcode.com/problems/bulls-and-cows)\n",
    "\n",
    "LeetCode problem difficulty: Medium\n",
    "\n",
    "## Problem Statement\n",
    "\n",
    "You are playing the Bulls and Cows game with your friend.\n",
    "\n",
    "\n",
    "You write down a secret number and ask your friend to guess what the number is. When your friend makes a guess, you provide a hint with the following info:\n",
    "    \n",
    "\n",
    "The number of \"bulls\", which are digits in the guess that are in the correct position.\n",
    "\n",
    "\n",
    "The number of \"cows\", which are digits in the guess that are in your secret number but are located in the wrong position. Specifically, the non-bull digits in the guess that could be rearranged such that they become bulls.\n",
    "\n",
    "\n",
    "Given the secret number secret and your friend's guess guess, return the hint for your friend's guess.\n",
    "\n",
    "The hint should be formatted as \"xAyB\", where x is the number of bulls and y is the number of cows. Note that both secret and guess may contain duplicate digits.\n",
    "\n",
    "\n",
    "**Example 1:**\n",
    "\n",
    "\n",
    "Input: secret = \"1807\", guess = \"7810\"\n",
    "\n",
    "\n",
    "Output: \"1A3B\"\n",
    "\n",
    "\n",
    "Explanation: Bulls are connected with a '|' and cows are underlined:\n",
    "\"1807\"\n",
    "  |\n",
    "\"7810\"\n",
    "\n",
    "\n",
    "**Example 2:**\n",
    "\n",
    "\n",
    "Input: secret = \"1123\", guess = \"0111\"\n",
    "\n",
    "\n",
    "Output: \"1A1B\"\n",
    "\n",
    "\n",
    "Explanation: Bulls are connected with a '|' and cows are underlined:\n",
    "\"1123\"        \"1123\"\n",
    "  |      or     |\n",
    "\"0111\"        \"0111\"\n",
    "Note that only one of the two unmatched 1s is counted as a cow since the non-bull digits can only be rearranged to allow one 1 to be a bull.\n"
   ]
  },
  {
   "cell_type": "code",
   "execution_count": 1,
   "id": "bde3341d",
   "metadata": {},
   "outputs": [],
   "source": [
    "def getHint(secret, guess):\n",
    "\n",
    "    bulls, cows = 0, 0\n",
    "\n",
    "    secret_list = list(secret)\n",
    "    guess_list = list(guess)\n",
    "\n",
    "    j = 0\n",
    "\n",
    "    while j < len(secret_list):\n",
    "        if secret_list[j] == guess_list[j]:\n",
    "            bulls += 1\n",
    "            secret_list.pop(j)\n",
    "            guess_list.pop(j)\n",
    "        else:\n",
    "            j += 1\n",
    "\n",
    "    count = {}\n",
    "\n",
    "    for c in secret_list:\n",
    "        count[c] = count.get(c, 0) + 1\n",
    "\n",
    "    for c in guess_list:\n",
    "        if c in count:\n",
    "            cows += 1\n",
    "            count[c] -= 1\n",
    "            if count[c] == 0:\n",
    "                del count[c]\n",
    "\n",
    "    return str(bulls) + \"A\" + str(cows) + \"B\""
   ]
  },
  {
   "cell_type": "code",
   "execution_count": 2,
   "id": "e301f6c7",
   "metadata": {},
   "outputs": [
    {
     "data": {
      "text/plain": [
       "'1A3B'"
      ]
     },
     "execution_count": 2,
     "metadata": {},
     "output_type": "execute_result"
    }
   ],
   "source": [
    "getHint(\"1807\", \"7810\")"
   ]
  }
 ],
 "metadata": {
  "kernelspec": {
   "display_name": "Python 3 (ipykernel)",
   "language": "python",
   "name": "python3"
  },
  "language_info": {
   "codemirror_mode": {
    "name": "ipython",
    "version": 3
   },
   "file_extension": ".py",
   "mimetype": "text/x-python",
   "name": "python",
   "nbconvert_exporter": "python",
   "pygments_lexer": "ipython3",
   "version": "3.9.13"
  }
 },
 "nbformat": 4,
 "nbformat_minor": 5
}
