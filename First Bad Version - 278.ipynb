{
 "cells": [
  {
   "cell_type": "markdown",
   "id": "a5d40166",
   "metadata": {},
   "source": [
    "# [278. First Bad Version](https://leetcode.com/problems/first-bad-version)\n",
    "\n",
    "LeetCode problem difficulty: Easy\n",
    "\n",
    "## Problem Statement\n",
    "\n",
    "You are a product manager and currently leading a team to develop a new product. Unfortunately, the latest version of your product fails the quality check. Since each version is developed based on the previous version, all the versions after a bad version are also bad.\n",
    "\n",
    "\n",
    "Suppose you have n versions [1, 2, ..., n] and you want to find out the first bad one, which causes all the following ones to be bad.\n",
    "\n",
    "\n",
    "You are given an API bool isBadVersion(version) which returns whether version is bad. Implement a function to find the first bad version. You should minimize the number of calls to the API.\n",
    "\n",
    "\n",
    "**Example 1:**\n",
    "\n",
    "\n",
    "Input: n = 5, bad = 4\n",
    "\n",
    "\n",
    "Output: 4\n",
    "\n",
    "\n",
    "Explanation:\n",
    "\n",
    "\n",
    "call isBadVersion(3) -> false\n",
    "\n",
    "\n",
    "call isBadVersion(5) -> true\n",
    "\n",
    "\n",
    "call isBadVersion(4) -> true\n",
    "\n",
    "\n",
    "Then 4 is the first bad version.\n",
    "\n",
    "\n",
    "**Example 2:**\n",
    "\n",
    "\n",
    "Input: n = 1, bad = 1\n",
    "\n",
    "\n",
    "Output: 1"
   ]
  },
  {
   "cell_type": "code",
   "execution_count": 2,
   "id": "c5164d6b",
   "metadata": {},
   "outputs": [],
   "source": [
    "# The isBadVersion API is already defined for you.\n",
    "# def isBadVersion(version: int) -> bool:\n",
    "\n",
    "class Solution:\n",
    "    def firstBadVersion(self, n: int) -> int:\n",
    "\n",
    "        l = 1\n",
    "        r = n\n",
    "\n",
    "        while l <= r:\n",
    "\n",
    "            m = (l + r) // 2\n",
    "\n",
    "            if isBadVersion(m):\n",
    "                r = m - 1\n",
    "            else:\n",
    "                l = m + 1\n",
    "\n",
    "        return r + 1"
   ]
  }
 ],
 "metadata": {
  "kernelspec": {
   "display_name": "Python 3 (ipykernel)",
   "language": "python",
   "name": "python3"
  },
  "language_info": {
   "codemirror_mode": {
    "name": "ipython",
    "version": 3
   },
   "file_extension": ".py",
   "mimetype": "text/x-python",
   "name": "python",
   "nbconvert_exporter": "python",
   "pygments_lexer": "ipython3",
   "version": "3.9.13"
  }
 },
 "nbformat": 4,
 "nbformat_minor": 5
}
