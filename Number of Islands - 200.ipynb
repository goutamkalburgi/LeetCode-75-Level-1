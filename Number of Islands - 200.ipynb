{
 "cells": [
  {
   "cell_type": "markdown",
   "id": "13652f08",
   "metadata": {},
   "source": [
    "# [200. Number of Islands](https://leetcode.com/problems/number-of-islands)\n",
    "\n",
    "LeetCode problem difficulty: Medium\n",
    "\n",
    "## Problem Statement\n",
    "\n",
    "Given an m x n 2D binary grid grid which represents a map of '1's (land) and '0's (water), return the number of islands.\n",
    "\n",
    "\n",
    "An island is surrounded by water and is formed by connecting adjacent lands horizontally or vertically. You may assume all four edges of the grid are all surrounded by water.\n",
    "\n",
    "\n",
    "**Example 1:**\n",
    "    \n",
    "\n",
    "Input: grid = [\n",
    "  [\"1\",\"1\",\"1\",\"1\",\"0\"],\n",
    "  [\"1\",\"1\",\"0\",\"1\",\"0\"],\n",
    "  [\"1\",\"1\",\"0\",\"0\",\"0\"],\n",
    "  [\"0\",\"0\",\"0\",\"0\",\"0\"]\n",
    "]\n",
    "    \n",
    "    \n",
    "Output: 1\n",
    "    \n",
    "    \n",
    "**Example 2:**  \n",
    "    \n",
    "    \n",
    "Input: grid = [\n",
    "  [\"1\",\"1\",\"0\",\"0\",\"0\"],\n",
    "  [\"1\",\"1\",\"0\",\"0\",\"0\"],\n",
    "  [\"0\",\"0\",\"1\",\"0\",\"0\"],\n",
    "  [\"0\",\"0\",\"0\",\"1\",\"1\"]\n",
    "]\n",
    "    \n",
    "    \n",
    "Output: 3\n"
   ]
  },
  {
   "cell_type": "code",
   "execution_count": 1,
   "id": "704e30a8",
   "metadata": {},
   "outputs": [],
   "source": [
    "def numIslands(grid):\n",
    "\n",
    "    rows = len(grid)\n",
    "    cols = len(grid[0])\n",
    "    numOfIslands = 0\n",
    "\n",
    "    seen = set()\n",
    "\n",
    "    def bfs(i, j):\n",
    "\n",
    "        q = []\n",
    "\n",
    "        q.append((i, j))\n",
    "        seen.add((i, j))\n",
    "\n",
    "        while q:\n",
    "            cr, cc = q.pop(0)\n",
    "\n",
    "            adjs = [(1, 0), (-1, 0), (0, -1), (0, 1)]\n",
    "\n",
    "            for ar, ac in adjs:\n",
    "                r = cr + ar\n",
    "                c = cc + ac\n",
    "\n",
    "                if 0 <= r < rows and 0 <= c < cols and grid[r][c] == \"1\" and (r, c) not in seen:\n",
    "                    q.append((r, c))\n",
    "                    seen.add((r, c))\n",
    "\n",
    "    def dfsi(i, j):\n",
    "\n",
    "        stack = []\n",
    "\n",
    "        stack.append((i ,j))\n",
    "        seen.add((i, j))\n",
    "\n",
    "        while stack:\n",
    "            cr, cc = stack.pop()\n",
    "\n",
    "            adjs = [(1, 0), (-1, 0), (0, 1), (0, -1)]\n",
    "\n",
    "            for ar, ac in adjs:\n",
    "                r = cr + ar\n",
    "                c = cc + ac\n",
    "\n",
    "                if 0 <= r < rows and 0 <= c < cols and grid[r][c] == \"1\" and (r, c) not in seen:\n",
    "                    stack.append((r, c))\n",
    "                    seen.add((r, c))\n",
    "\n",
    "    def dfsr(i, j):\n",
    "        if 0 <= i < rows and 0 <= j < cols and grid[i][j] == \"1\" and (i, j) not in seen:\n",
    "            seen.add((i, j))\n",
    "            adjs = [(-1, 0), (1, 0), (0, -1), (0, 1)]\n",
    "            for ar, ac in adjs:\n",
    "                dfsr(i + ar, j + ac)\n",
    "\n",
    "    for i in range(rows):\n",
    "        for j in range(cols):\n",
    "            if grid[i][j] == \"1\" and (i, j) not in seen:\n",
    "                numOfIslands += 1\n",
    "                # bfs(i, j)\n",
    "                # dfsi(i, j)\n",
    "                dfsr(i, j)\n",
    "\n",
    "    return numOfIslands"
   ]
  },
  {
   "cell_type": "code",
   "execution_count": 2,
   "id": "1a16b187",
   "metadata": {},
   "outputs": [
    {
     "data": {
      "text/plain": [
       "1"
      ]
     },
     "execution_count": 2,
     "metadata": {},
     "output_type": "execute_result"
    }
   ],
   "source": [
    "grid = [ [\"1\",\"1\",\"1\",\"1\",\"0\"], [\"1\",\"1\",\"0\",\"1\",\"0\"], [\"1\",\"1\",\"0\",\"0\",\"0\"], [\"0\",\"0\",\"0\",\"0\",\"0\"] ]\n",
    "numIslands(grid)"
   ]
  }
 ],
 "metadata": {
  "kernelspec": {
   "display_name": "Python 3 (ipykernel)",
   "language": "python",
   "name": "python3"
  },
  "language_info": {
   "codemirror_mode": {
    "name": "ipython",
    "version": 3
   },
   "file_extension": ".py",
   "mimetype": "text/x-python",
   "name": "python",
   "nbconvert_exporter": "python",
   "pygments_lexer": "ipython3",
   "version": "3.9.13"
  }
 },
 "nbformat": 4,
 "nbformat_minor": 5
}
