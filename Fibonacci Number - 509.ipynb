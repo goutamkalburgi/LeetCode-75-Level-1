{
 "cells": [
  {
   "cell_type": "markdown",
   "id": "71d19ac9",
   "metadata": {},
   "source": [
    "# [509. Fibonacci Number](https://leetcode.com/problems/fibonacci-number)\n",
    "\n",
    "LeetCode problem difficulty: Easy\n",
    "\n",
    "## Problem Statement\n",
    "\n",
    "The Fibonacci numbers, commonly denoted F(n) form a sequence, called the Fibonacci sequence, such that each number is the sum of the two preceding ones, starting from 0 and 1. That is,\n",
    "\n",
    "\n",
    "F(0) = 0, F(1) = 1\n",
    "\n",
    "\n",
    "F(n) = F(n - 1) + F(n - 2), for n > 1.\n",
    "\n",
    "\n",
    "Given n, calculate F(n).\n",
    "\n",
    "\n",
    "**Example 1:**\n",
    "    \n",
    "\n",
    "Input: n = 2\n",
    "    \n",
    "    \n",
    "Output: 1\n",
    "    \n",
    "    \n",
    "Explanation: F(2) = F(1) + F(0) = 1 + 0 = 1.\n",
    "    \n",
    "    \n",
    "**Example 2:** \n",
    "    \n",
    "    \n",
    "Input: n = 3\n",
    "    \n",
    "    \n",
    "Output: 2\n",
    "    \n",
    "    \n",
    "Explanation: F(3) = F(2) + F(1) = 1 + 1 = 2.\n",
    "    \n",
    "    \n",
    "**Example 3:**  \n",
    "    \n",
    "    \n",
    "Input: n = 4\n",
    "    \n",
    "    \n",
    "Output: 3\n",
    "    \n",
    "    \n",
    "Explanation: F(4) = F(3) + F(2) = 2 + 1 = 3.\n"
   ]
  },
  {
   "cell_type": "code",
   "execution_count": 2,
   "id": "398b9884",
   "metadata": {},
   "outputs": [],
   "source": [
    "def fib(n):\n",
    "    algo = \"recursive\"\n",
    "\n",
    "    if algo == \"recursive\":\n",
    "        # recursive\n",
    "        if n == 0:\n",
    "            return 0\n",
    "        elif n == 1:\n",
    "            return 1\n",
    "        else:\n",
    "            return fib(n-1) + fib(n-2)\n",
    "\n",
    "    if algo == \"iterative\":\n",
    "        # iterative\n",
    "        one = 0\n",
    "        two = 1\n",
    "\n",
    "        for _ in range(n):\n",
    "            temp = two\n",
    "            two = one + two\n",
    "            one = temp\n",
    "\n",
    "        return one"
   ]
  },
  {
   "cell_type": "code",
   "execution_count": 3,
   "id": "5796a3e0",
   "metadata": {},
   "outputs": [
    {
     "data": {
      "text/plain": [
       "1"
      ]
     },
     "execution_count": 3,
     "metadata": {},
     "output_type": "execute_result"
    }
   ],
   "source": [
    "fib(2)"
   ]
  }
 ],
 "metadata": {
  "kernelspec": {
   "display_name": "Python 3 (ipykernel)",
   "language": "python",
   "name": "python3"
  },
  "language_info": {
   "codemirror_mode": {
    "name": "ipython",
    "version": 3
   },
   "file_extension": ".py",
   "mimetype": "text/x-python",
   "name": "python",
   "nbconvert_exporter": "python",
   "pygments_lexer": "ipython3",
   "version": "3.9.13"
  }
 },
 "nbformat": 4,
 "nbformat_minor": 5
}
