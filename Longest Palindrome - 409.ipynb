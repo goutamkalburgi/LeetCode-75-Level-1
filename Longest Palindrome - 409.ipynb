{
 "cells": [
  {
   "cell_type": "markdown",
   "id": "a6719034",
   "metadata": {},
   "source": [
    "# [409. Longest Palindrome](https://leetcode.com/problems/longest-palindrome)\n",
    "\n",
    "LeetCode problem difficulty: Easy\n",
    "\n",
    "## Problem Statement\n",
    "\n",
    "Given a string s which consists of lowercase or uppercase letters, return the length of the longest palindrome that can be built with those letters.\n",
    "\n",
    "\n",
    "Letters are case sensitive, for example, \"Aa\" is not considered a palindrome here.\n",
    "\n",
    "\n",
    "**Example 1:**\n",
    "    \n",
    "\n",
    "Input: s = \"abccccdd\"\n",
    "    \n",
    "    \n",
    "Output: 7\n",
    "    \n",
    "    \n",
    "Explanation: One longest palindrome that can be built is \"dccaccd\", whose length is 7.  \n",
    "    \n",
    "    \n",
    "**Example 2:**\n",
    "    \n",
    "    \n",
    "Input: s = \"a\"\n",
    "    \n",
    "    \n",
    "Output: 1\n",
    "    \n",
    "    \n",
    "Explanation: The longest palindrome that can be built is \"a\", whose length is 1."
   ]
  },
  {
   "cell_type": "code",
   "execution_count": 2,
   "id": "14fbf531",
   "metadata": {},
   "outputs": [],
   "source": [
    "def longestPalindrome(s):\n",
    "\n",
    "    count = {}\n",
    "\n",
    "    output = 0 \n",
    "\n",
    "    for c in s:\n",
    "        count[c] = count.get(c, 0) + 1\n",
    "\n",
    "    for v in count.values():\n",
    "        output += (v // 2) * 2\n",
    "\n",
    "        if output % 2 == 0 and v % 2 != 0:\n",
    "            output += 1\n",
    "\n",
    "    return output"
   ]
  },
  {
   "cell_type": "code",
   "execution_count": 3,
   "id": "0f3e67c7",
   "metadata": {},
   "outputs": [
    {
     "data": {
      "text/plain": [
       "7"
      ]
     },
     "execution_count": 3,
     "metadata": {},
     "output_type": "execute_result"
    }
   ],
   "source": [
    "longestPalindrome(\"abccccdd\")"
   ]
  }
 ],
 "metadata": {
  "kernelspec": {
   "display_name": "Python 3 (ipykernel)",
   "language": "python",
   "name": "python3"
  },
  "language_info": {
   "codemirror_mode": {
    "name": "ipython",
    "version": 3
   },
   "file_extension": ".py",
   "mimetype": "text/x-python",
   "name": "python",
   "nbconvert_exporter": "python",
   "pygments_lexer": "ipython3",
   "version": "3.9.13"
  }
 },
 "nbformat": 4,
 "nbformat_minor": 5
}
