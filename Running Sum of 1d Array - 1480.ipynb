{
 "cells": [
  {
   "cell_type": "markdown",
   "id": "61c2b85f",
   "metadata": {},
   "source": [
    "# [1480. Running Sum of 1d Array](https://leetcode.com/problems/running-sum-of-1d-array/)\n",
    "\n",
    "LeetCode problem difficulty: Easy\n",
    "\n",
    "## Problem Statement\n",
    "\n",
    "Given an array nums. We define a running sum of an array as runningSum[i] = sum(nums[0]…nums[i]).\n",
    "\n",
    "\n",
    "Return the running sum of nums.\n",
    "\n",
    "**Example 1:**\n",
    "\n",
    "\n",
    "Input: nums = [1,2,3,4]\n",
    "\n",
    "\n",
    "Output: [1,3,6,10]\n",
    "\n",
    "\n",
    "Explanation: Running sum is obtained as follows: [1, 1+2, 1+2+3, 1+2+3+4].\n",
    "\n",
    "\n",
    "**Example 2:**\n",
    "\n",
    "\n",
    "Input: nums = [1,1,1,1,1]\n",
    "\n",
    "\n",
    "Output: [1,2,3,4,5]\n",
    "\n",
    "\n",
    "Explanation: Running sum is obtained as follows: [1, 1+1, 1+1+1, 1+1+1+1, 1+1+1+1+1].\n",
    "\n",
    "\n",
    "**Example 3:**\n",
    "\n",
    "\n",
    "Input: nums = [3,1,2,10,1]\n",
    "\n",
    "\n",
    "Output: [3,4,6,16,17]"
   ]
  },
  {
   "cell_type": "code",
   "execution_count": 4,
   "id": "aa4bf434",
   "metadata": {},
   "outputs": [],
   "source": [
    "def runningSum(nums):\n",
    "\n",
    "    for i in range(1, len(nums)):\n",
    "        nums[i] += nums[i -1]\n",
    "\n",
    "    return nums\n"
   ]
  },
  {
   "cell_type": "code",
   "execution_count": 5,
   "id": "9e34b915",
   "metadata": {},
   "outputs": [
    {
     "data": {
      "text/plain": [
       "[1, 3, 6, 10]"
      ]
     },
     "execution_count": 5,
     "metadata": {},
     "output_type": "execute_result"
    }
   ],
   "source": [
    "runningSum([1,2,3,4])"
   ]
  }
 ],
 "metadata": {
  "kernelspec": {
   "display_name": "Python 3 (ipykernel)",
   "language": "python",
   "name": "python3"
  },
  "language_info": {
   "codemirror_mode": {
    "name": "ipython",
    "version": 3
   },
   "file_extension": ".py",
   "mimetype": "text/x-python",
   "name": "python",
   "nbconvert_exporter": "python",
   "pygments_lexer": "ipython3",
   "version": "3.9.13"
  }
 },
 "nbformat": 4,
 "nbformat_minor": 5
}
