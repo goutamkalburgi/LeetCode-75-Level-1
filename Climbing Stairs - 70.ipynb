{
 "cells": [
  {
   "cell_type": "markdown",
   "id": "69cff99f",
   "metadata": {},
   "source": [
    "# [70. Climbing Stairs](https://leetcode.com/problems/climbing-stairs)\n",
    "\n",
    "LeetCode problem difficulty: Easy\n",
    "\n",
    "## Problem Statement\n",
    "\n",
    "You are climbing a staircase. It takes n steps to reach the top.\n",
    "\n",
    "\n",
    "Each time you can either climb 1 or 2 steps. In how many distinct ways can you climb to the top?\n",
    "\n",
    "\n",
    "**Example 1:**\n",
    "\n",
    "\n",
    "Input: n = 2\n",
    "\n",
    "\n",
    "Output: 2\n",
    "\n",
    "\n",
    "Explanation: \n",
    "\n",
    "\n",
    "There are two ways to climb to the top.\n",
    "1. 1 step + 1 step\n",
    "2. 2 steps\n",
    "\n",
    "\n",
    "**Example 2:**\n",
    "\n",
    "\n",
    "Input: n = 3\n",
    "\n",
    "\n",
    "Output: 3\n",
    "\n",
    "\n",
    "Explanation: There are three ways to climb to the top.\n",
    "1. 1 step + 1 step + 1 step\n",
    "2. 1 step + 2 steps\n",
    "3. 2 steps + 1 step"
   ]
  },
  {
   "cell_type": "code",
   "execution_count": 1,
   "id": "6c49a4e5",
   "metadata": {},
   "outputs": [],
   "source": [
    "def climbStairs(n):\n",
    "\n",
    "    one = 0\n",
    "    two = 1\n",
    "\n",
    "    for i in range(n):\n",
    "        temp = two\n",
    "\n",
    "        two = one + two\n",
    "\n",
    "        one = temp\n",
    "\n",
    "    return two"
   ]
  },
  {
   "cell_type": "code",
   "execution_count": 2,
   "id": "834b6b7f",
   "metadata": {},
   "outputs": [
    {
     "data": {
      "text/plain": [
       "2"
      ]
     },
     "execution_count": 2,
     "metadata": {},
     "output_type": "execute_result"
    }
   ],
   "source": [
    "climbStairs(2)"
   ]
  }
 ],
 "metadata": {
  "kernelspec": {
   "display_name": "Python 3 (ipykernel)",
   "language": "python",
   "name": "python3"
  },
  "language_info": {
   "codemirror_mode": {
    "name": "ipython",
    "version": 3
   },
   "file_extension": ".py",
   "mimetype": "text/x-python",
   "name": "python",
   "nbconvert_exporter": "python",
   "pygments_lexer": "ipython3",
   "version": "3.9.13"
  }
 },
 "nbformat": 4,
 "nbformat_minor": 5
}
